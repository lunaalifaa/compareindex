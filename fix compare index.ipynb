{
 "cells": [
  {
   "cell_type": "code",
   "execution_count": 29,
   "metadata": {},
   "outputs": [],
   "source": [
    "try:\n",
    "    import pandas as pd\n",
    "    import os\n",
    "    import openpyxl\n",
    "    import re\n",
    "except:\n",
    "    !pip install --upgrade -q pip\n",
    "    !pip install -q pandas \n",
    "    !pip install -q openpyxl \n",
    "    !pip install -q re\n",
    "    import pandas as pd\n",
    "    import os\n",
    "    import openpyxl\n",
    "    import re"
   ]
  },
  {
   "cell_type": "code",
   "execution_count": 30,
   "metadata": {},
   "outputs": [],
   "source": [
    "folder_path = os.getcwd()  # Atau ubah ke folder lain\n",
    "\n",
    "# Ambil semua file yang berakhiran .xlsx\n",
    "excel_files = [f for f in os.listdir(folder_path) if f.endswith(\".xlsx\")]\n",
    "index = []\n",
    "files = []\n",
    "files_masuk = []\n",
    "files_keluar = []\n",
    "hasil_akhir = pd.DataFrame()\n",
    "\n",
    "# Cetak daftar file .xlsx\n",
    "for file in excel_files:\n",
    "    if \"Index Member\" not in file:\n",
    "        df = pd.read_excel(file)\n",
    "        name = df.iloc[1, 6].replace(':',\"\").replace(\"-\",\"\").strip()\n",
    "        evaluasi = df.iloc[2, 6].replace(':',\"\").strip()\n",
    "        index.append(f\"{name} {evaluasi}\")\n",
    "        \n",
    "        table = []\n",
    "        startrow = 0\n",
    "        endrow = 0\n",
    "\n",
    "        for i in range(len(df[\"Unnamed: 1\"])):\n",
    "            if df[\"Unnamed: 1\"][i] == 1:\n",
    "                table.append(startrow)\n",
    "            try:\n",
    "                if isinstance(df[\"Unnamed: 1\"][i], int) and isinstance(df[\"Unnamed: 1\"][i+1],str):\n",
    "                    table.append(endrow+1)\n",
    "            except:\n",
    "                table.append(endrow+1)\n",
    "            endrow+=1\n",
    "            startrow+=1\n",
    "        change= [\"Jumlah Pra Evaluasi\", \"Jumlah Pasca Evaluasi\", \"Jumlah Keterangan\", \"Bobot Pra Evaluasi\", \"Bobot Pasca Evaluasi\", \"Bobot Keterangan\"]\n",
    "        header_masuk = [df.iloc[table[0]-2:table[0]-1, 1:4].values.tolist()[0] + change][0]\n",
    "        masuk = df.iloc[table[0]:table[1], 1:12]\n",
    "        masuk.columns = header_masuk\n",
    "        exec(f'df_{name}_masuk = masuk')\n",
    "        files.append(f'df_{name}_masuk')\n",
    "        files_masuk.append(f'df_{name}_masuk')\n",
    "\n",
    "        if len(table)>2:\n",
    "            keluar = df.iloc[table[2]:table[3], 1:4]\n",
    "            keluar.columns = df.iloc[table[2]-2:table[2]-1, 1:4].values.tolist()[0]\n",
    "            exec(f'df_{name}_keluar = keluar')\n",
    "            files.append(f'df_{name}_keluar')\n",
    "            files_keluar.append(f'df_{name}_keluar')\n",
    "    else:\n",
    "        df_index_member = pd.read_excel(file)\n",
    "        df_index_member[\"Index\"] = df_index_member[\"Index\"].str.replace(\"-\", \"\", regex=True)"
   ]
  },
  {
   "cell_type": "code",
   "execution_count": 31,
   "metadata": {},
   "outputs": [],
   "source": [
    "def Check_jumlah_naik(row):\n",
    "    if row['Jumlah Keterangan'].upper() == \"NAIK\":\n",
    "        return row['Jumlah Pasca Evaluasi'] > row['Jumlah Pra Evaluasi']\n",
    "    if row['Jumlah Keterangan'].upper() == \"TETAP\":\n",
    "        return round(row['Jumlah Pasca Evaluasi'],2) == round(row['Jumlah Pra Evaluasi'],2)\n",
    "    if row['Jumlah Keterangan'].upper() == \"TURUN\":\n",
    "        return row['Jumlah Pasca Evaluasi'] < row['Jumlah Pra Evaluasi']\n",
    "    if row['Jumlah Keterangan'].upper() == \"BARU\":\n",
    "        return (row['Jumlah Pasca Evaluasi'] > 0) & (str(row['Jumlah Pra Evaluasi']) == '-')\n",
    "    return False\n",
    "\n",
    "def Check_bobot_naik(row):\n",
    "    if row['Bobot Keterangan'].upper() == \"NAIK\":\n",
    "        return row['Bobot Pasca Evaluasi'] > row['Bobot Pra Evaluasi']\n",
    "    if row['Bobot Keterangan'].upper() == \"TETAP\":\n",
    "        return round(row['Bobot Pasca Evaluasi'],2) == round(row['Bobot Pra Evaluasi'],2)\n",
    "    if row['Bobot Keterangan'].upper() == \"TURUN\":\n",
    "        return row['Bobot Pasca Evaluasi'] < row['Bobot Pra Evaluasi']\n",
    "    if row['Bobot Keterangan'].upper() == \"BARU\":\n",
    "        return (row['Bobot Pasca Evaluasi'] > 0) & (str(row['Bobot Pra Evaluasi']) == '-')\n",
    "    return False\n",
    "\n",
    "for file in files_masuk:\n",
    "    compare = file.split(\"_\")[1]\n",
    "    dict_compare = {'IDXECONOMIC30': 'ECONOMIC30'}\n",
    "    if compare in dict_compare:\n",
    "        compare = dict_compare[compare]\n",
    "    current = df_index_member[df_index_member['Index'].str.upper() == compare]\n",
    "    try:\n",
    "        df_masuk = eval(file)\n",
    "    except NameError:\n",
    "        print(f\"⚠️ DataFrame df_{file}_masuk tidak ditemukan.\")\n",
    "        continue \n",
    "\n",
    "    # Gabungkan berdasarkan kolom \"Kode Efek\" dan \"Kode\"\n",
    "    exec(f'{file} = {file}.merge(current[[\"Kode Efek\", \"Weight Multiplier\"]], left_on=\"Kode\", right_on=\"Kode Efek\", how=\"left\")')\n",
    "    exec(f'{file}[\"Check Kode\"] = {file}[\"Kode Efek\"] == {file}[\"Kode\"]')\n",
    "    exec(f'{file}[\"Check Jumlah\"] = {file}[\"Weight Multiplier\"] == {file}[\"Jumlah Pra Evaluasi\"]')\n",
    "    exec(f'{file}[\"Check Keterangan Jumlah\"] = {file}.apply(Check_jumlah_naik, axis=1)')\n",
    "    exec(f'{file}[\"Check Keterangan Bobot\"] = {file}.apply(Check_bobot_naik, axis=1)')\n",
    "\n",
    "    current = current.merge(df_masuk[['Kode','Jumlah Pra Evaluasi']], left_on=\"Kode Efek\", right_on=\"Kode\", how=\"left\")\n",
    "    current[\"Check Kode\"] = current[\"Kode Efek\"] == current[\"Kode\"]\n",
    "    current[\"Check Jumlah\"] = current[\"Weight Multiplier\"] == current[\"Jumlah Pra Evaluasi\"]\n",
    "    hasil_akhir = pd.concat([hasil_akhir, current], ignore_index=True)\n",
    "\n",
    "    # Cek apakah DataFrame hasil kosong\n",
    "    if current.empty:\n",
    "        print(f\"{file} not ok\")\n"
   ]
  },
  {
   "cell_type": "code",
   "execution_count": 32,
   "metadata": {},
   "outputs": [
    {
     "name": "stdout",
     "output_type": "stream",
     "text": [
      "['1 Lamp Peng-00-BEI POP- INFOVESTA28 - Feb 2025 Mayor.xlsx', '10 Lamp Peng-00-BEI POP - IDX-MES BUMN 17 - Feb 2025 Minor.xlsx', '11 Lamp Peng-00-BEI POP- Investor33 - Feb 2025 Minor.xlsx', '12 Lamp Peng-00-BEI POP - SRIKEHATI - Feb 2025 Minor.xlsx', '13 Lamp Peng-00-BEI POP - ESGS KEHATI - Feb 2025 Minor.xlsx', '14 Lamp Peng-00-BEI POP - ESGQ KEHATI - Feb 2025 Minor.xlsx', '2 Lamp Peng-00-BEI POP- ECONOMIC30 - Feb 2025 Mayor.xlsx', '3 Lamp Peng-00-BEI POP- ABX - Feb 2025 Minor.xlsx', '4 Lamp Peng-00-BEI POP- DBX - Feb 2025 Minor.xlsx', '5 Lamp Peng-00-BEI POP- MBX - Feb 2025 Minor.xlsx', '6 Lamp Peng-00-BEI POP - ISSI - Feb 2025 Minor.xlsx', '7 Lamp Peng-00-BEI POP - JII - Feb 2025 Minor.xlsx', '8 Lamp Peng-00-BEI POP - JII70 - Feb 2025 Minor.xlsx', '9 Lamp Peng-00-BEI POP - IDX Sharia Growth - Feb 2025 Minor.xlsx', 'Index Member - Generate Report.xlsx']\n"
     ]
    }
   ],
   "source": [
    "print(excel_files)\n"
   ]
  },
  {
   "cell_type": "code",
   "execution_count": 33,
   "metadata": {},
   "outputs": [
    {
     "name": "stdout",
     "output_type": "stream",
     "text": [
      "['IDXVESTA28 Mayor', 'IDXMESBUMN Minor', 'INVESTOR33 Minor', 'SRIKEHATI Minor', 'ESGSKEHATI Minor', 'ESGQKEHATI Minor', 'IDXECONOMIC30 Mayor', 'ABX Minor', 'DBX Minor', 'MBX Minor', 'ISSI Minor', 'JII Minor', 'JII70 Minor', 'IDXSHAGROW Minor']\n"
     ]
    }
   ],
   "source": [
    "print(index)\n"
   ]
  },
  {
   "cell_type": "code",
   "execution_count": 34,
   "metadata": {},
   "outputs": [
    {
     "name": "stdout",
     "output_type": "stream",
     "text": [
      "['IDXVESTA28', 'IDXMESBUMN', 'INVESTOR33', 'SRIKEHATI', 'ESGSKEHATI', 'ESGQKEHATI', 'IDXECONOMIC30', 'ABX', 'DBX', 'MBX', 'ISSI', 'JII', 'JII70', 'IDXSHAGROW']\n"
     ]
    }
   ],
   "source": [
    "index_list = ['IDXVESTA28 Mayor', 'IDXMESBUMN Minor', 'INVESTOR33 Minor', \n",
    "              'SRIKEHATI Minor', 'ESGSKEHATI Minor', 'ESGQKEHATI Minor', \n",
    "              'IDXECONOMIC30 Mayor', 'ABX Minor', 'DBX Minor', 'MBX Minor', \n",
    "              'ISSI Minor', 'JII Minor', 'JII70 Minor', 'IDXSHAGROW Minor']\n",
    "\n",
    "index_list = [item.replace(\"Mayor\", \"\").replace(\"Minor\", \"\").strip() for item in index_list]\n",
    "\n",
    "print(index_list)\n"
   ]
  },
  {
   "cell_type": "code",
   "execution_count": 35,
   "metadata": {},
   "outputs": [
    {
     "name": "stdout",
     "output_type": "stream",
     "text": [
      "     No.  Kode Rasio Free Float Jumlah Pra Evaluasi Jumlah Pasca Evaluasi  \\\n",
      "0      1  AALI            0.203             7570869        4522226.744449   \n",
      "1      2  ADRO           0.3202            10193680        4916420.845624   \n",
      "2      3  AMRT           0.4247            21569603       23907505.388987   \n",
      "3      4  ARTO           0.2693                   -       30808385.238765   \n",
      "4      5  ASII           0.4499             3510130        5621693.121693   \n",
      "...   ..   ...              ...                 ...                   ...   \n",
      "1722  26  SILO           0.0813          1111087247            1025676024   \n",
      "1723  27  SSIA           0.7269          5438190851            5472393309   \n",
      "1724  28  TINS           0.3496          5285581253            5207469215   \n",
      "1725  29  TKIM           0.2866           970242352            1035009855   \n",
      "1726  30  TLKM           0.4714         22110742309           19891988957   \n",
      "\n",
      "     Jumlah Keterangan Bobot Pra Evaluasi Bobot Pasca Evaluasi  \\\n",
      "0              Berubah           0.043911             0.026455   \n",
      "1              Berubah           0.023242             0.011111   \n",
      "2              Berubah           0.059532              0.06455   \n",
      "3                 Baru                  -             0.060847   \n",
      "4              Berubah           0.016638             0.026984   \n",
      "...                ...                ...                  ...   \n",
      "1722           Berubah            0.00915             0.008459   \n",
      "1723           Berubah            0.01319             0.013292   \n",
      "1724           Berubah           0.015503             0.015295   \n",
      "1725           Berubah           0.014708             0.015712   \n",
      "1726           Berubah           0.166502                 0.15   \n",
      "\n",
      "     Bobot Keterangan Kode Efek  Weight Multiplier  Check Kode  Check Jumlah  \\\n",
      "0               Turun      AALI       7.570869e+06        True          True   \n",
      "1               Turun      ADRO       1.019368e+07        True          True   \n",
      "2                Naik      AMRT       2.156960e+07        True          True   \n",
      "3                Baru       NaN                NaN       False         False   \n",
      "4                Naik      ASII       3.510130e+06        True          True   \n",
      "...               ...       ...                ...         ...           ...   \n",
      "1722            Turun      SILO       1.111087e+09        True          True   \n",
      "1723             Naik      SSIA       5.438191e+09        True          True   \n",
      "1724            Turun      TINS       5.285581e+09        True          True   \n",
      "1725             Naik      TKIM       9.702424e+08        True          True   \n",
      "1726            Turun      TLKM       2.211074e+10        True          True   \n",
      "\n",
      "      Check Keterangan Jumlah  Check Keterangan Bobot       Index  \n",
      "0                        True                    True  IDXVESTA28  \n",
      "1                        True                    True  IDXVESTA28  \n",
      "2                        True                    True  IDXVESTA28  \n",
      "3                        True                    True  IDXVESTA28  \n",
      "4                        True                    True  IDXVESTA28  \n",
      "...                       ...                     ...         ...  \n",
      "1722                     True                    True  IDXSHAGROW  \n",
      "1723                     True                    True  IDXSHAGROW  \n",
      "1724                     True                    True  IDXSHAGROW  \n",
      "1725                     True                    True  IDXSHAGROW  \n",
      "1726                     True                    True  IDXSHAGROW  \n",
      "\n",
      "[1727 rows x 16 columns]\n"
     ]
    }
   ],
   "source": [
    "import pandas as pd\n",
    "\n",
    "# Contoh daftar index\n",
    "index_list = ['IDXVESTA28', 'IDXMESBUMN', 'INVESTOR33', 'SRIKEHATI', \n",
    "              'ESGSKEHATI', 'ESGQKEHATI', 'IDXECONOMIC30', 'ABX', \n",
    "              'DBX', 'MBX', 'ISSI', 'JII', 'JII70', 'IDXSHAGROW']\n",
    "\n",
    "# Simpan semua DataFrame df_masuk ke dalam dictionary dengan key sebagai index_list\n",
    "df_dict = {index: eval(f\"df_{index}_masuk\") for index in index_list if f\"df_{index}_masuk\" in globals()}\n",
    "\n",
    "# Tambahkan kolom index sesuai dengan daftar index_list\n",
    "for index, df in df_dict.items():\n",
    "    df[\"Index\"] = index  # Tambahkan kolom Index ke setiap DataFrame\n",
    "\n",
    "# Gabungkan semua DataFrame\n",
    "df_final = pd.concat(df_dict.values(), ignore_index=True)\n",
    "\n",
    "df_final.loc[df_final[\"Jumlah Keterangan\"].isin([\"Naik\", \"Turun\"]), \"Jumlah Keterangan\"] = \"Berubah\"\n",
    "\n",
    "# Menampilkan hasil\n",
    "print(df_final)\n"
   ]
  },
  {
   "cell_type": "code",
   "execution_count": 17,
   "metadata": {},
   "outputs": [],
   "source": [
    "df_final.to_excel(\"hasil_gabungan.xlsx\", index=False)"
   ]
  },
  {
   "cell_type": "code",
   "execution_count": 36,
   "metadata": {},
   "outputs": [
    {
     "name": "stdout",
     "output_type": "stream",
     "text": [
      "     No.  Kode Rasio Free Float Jumlah Pra Evaluasi Jumlah Pasca Evaluasi  \\\n",
      "0      1  AALI            0.203             7570869        4522226.744449   \n",
      "1      2  ADRO           0.3202            10193680        4916420.845624   \n",
      "2      3  AMRT           0.4247            21569603       23907505.388987   \n",
      "3      4  ARTO           0.2693                   -       30808385.238765   \n",
      "4      5  ASII           0.4499             3510130        5621693.121693   \n",
      "...   ..   ...              ...                 ...                   ...   \n",
      "1722  26  SILO           0.0813          1111087247            1025676024   \n",
      "1723  27  SSIA           0.7269          5438190851            5472393309   \n",
      "1724  28  TINS           0.3496          5285581253            5207469215   \n",
      "1725  29  TKIM           0.2866           970242352            1035009855   \n",
      "1726  30  TLKM           0.4714         22110742309           19891988957   \n",
      "\n",
      "     Jumlah Keterangan Bobot Pra Evaluasi Bobot Pasca Evaluasi  \\\n",
      "0              Berubah           0.043911             0.026455   \n",
      "1              Berubah           0.023242             0.011111   \n",
      "2              Berubah           0.059532              0.06455   \n",
      "3                 Baru                  -             0.060847   \n",
      "4              Berubah           0.016638             0.026984   \n",
      "...                ...                ...                  ...   \n",
      "1722           Berubah            0.00915             0.008459   \n",
      "1723           Berubah            0.01319             0.013292   \n",
      "1724           Berubah           0.015503             0.015295   \n",
      "1725           Berubah           0.014708             0.015712   \n",
      "1726           Berubah           0.166502                 0.15   \n",
      "\n",
      "     Bobot Keterangan Kode Efek  Weight Multiplier  Check Kode  Check Jumlah  \\\n",
      "0               Turun      AALI       7.570869e+06        True          True   \n",
      "1               Turun      ADRO       1.019368e+07        True          True   \n",
      "2                Naik      AMRT       2.156960e+07        True          True   \n",
      "3                Baru       NaN                NaN       False         False   \n",
      "4                Naik      ASII       3.510130e+06        True          True   \n",
      "...               ...       ...                ...         ...           ...   \n",
      "1722            Turun      SILO       1.111087e+09        True          True   \n",
      "1723             Naik      SSIA       5.438191e+09        True          True   \n",
      "1724            Turun      TINS       5.285581e+09        True          True   \n",
      "1725             Naik      TKIM       9.702424e+08        True          True   \n",
      "1726            Turun      TLKM       2.211074e+10        True          True   \n",
      "\n",
      "      Check Keterangan Jumlah  Check Keterangan Bobot       Index  \n",
      "0                        True                    True  IDXVESTA28  \n",
      "1                        True                    True  IDXVESTA28  \n",
      "2                        True                    True  IDXVESTA28  \n",
      "3                        True                    True  IDXVESTA28  \n",
      "4                        True                    True  IDXVESTA28  \n",
      "...                       ...                     ...         ...  \n",
      "1722                     True                    True  IDXSHAGROW  \n",
      "1723                     True                    True  IDXSHAGROW  \n",
      "1724                     True                    True  IDXSHAGROW  \n",
      "1725                     True                    True  IDXSHAGROW  \n",
      "1726                     True                    True  IDXSHAGROW  \n",
      "\n",
      "[1727 rows x 16 columns]\n"
     ]
    }
   ],
   "source": [
    "# Menampilkan hasil\n",
    "print(df_final)"
   ]
  },
  {
   "cell_type": "code",
   "execution_count": 37,
   "metadata": {},
   "outputs": [
    {
     "name": "stdout",
     "output_type": "stream",
     "text": [
      "['No.', 'Kode', 'Rasio Free Float', 'Jumlah Pra Evaluasi', 'Jumlah Pasca Evaluasi', 'Jumlah Keterangan', 'Bobot Pra Evaluasi', 'Bobot Pasca Evaluasi', 'Bobot Keterangan', 'Kode Efek', 'Weight Multiplier', 'Check Kode', 'Check Jumlah', 'Check Keterangan Jumlah', 'Check Keterangan Bobot', 'Index']\n"
     ]
    }
   ],
   "source": [
    "print(list(df_final.columns))"
   ]
  },
  {
   "cell_type": "code",
   "execution_count": 40,
   "metadata": {},
   "outputs": [],
   "source": [
    "# Ubah 'Naik' dan 'Turun' menjadi 'Berubah'\n",
    "df_final.loc[df_final[\"Keterangan\"].isin([\"Naik\", \"Turun\"]), \"Keterangan\"] = \"Berubah\"\n"
   ]
  },
  {
   "cell_type": "code",
   "execution_count": 45,
   "metadata": {},
   "outputs": [
    {
     "name": "stdout",
     "output_type": "stream",
     "text": [
      "      Kode Keterangan         Bobot       Index\n",
      "0     AALI    Berubah -3.048642e+06  IDXVESTA28\n",
      "1     ADRO    Berubah -5.277259e+06  IDXVESTA28\n",
      "2     AMRT    Berubah  2.337902e+06  IDXVESTA28\n",
      "3     ARTO       Baru  0.000000e+00  IDXVESTA28\n",
      "4     ASII    Berubah  2.111563e+06  IDXVESTA28\n",
      "...    ...        ...           ...         ...\n",
      "1722  SILO    Berubah -8.541122e+07  IDXSHAGROW\n",
      "1723  SSIA    Berubah  3.420246e+07  IDXSHAGROW\n",
      "1724  TINS    Berubah -7.811204e+07  IDXSHAGROW\n",
      "1725  TKIM    Berubah  6.476750e+07  IDXSHAGROW\n",
      "1726  TLKM    Berubah -2.218753e+09  IDXSHAGROW\n",
      "\n",
      "[1727 rows x 4 columns]\n"
     ]
    }
   ],
   "source": [
    "import pandas as pd\n",
    "\n",
    "# List index yang digunakan\n",
    "index_list = ['IDXVESTA28', 'IDXMESBUMN', 'INVESTOR33', 'SRIKEHATI', \n",
    "              'ESGSKEHATI', 'ESGQKEHATI', 'IDXECONOMIC30', 'ABX', \n",
    "              'DBX', 'MBX', 'ISSI', 'JII', 'JII70', 'IDXSHAGROW']\n",
    "\n",
    "# Simpan semua DataFrame df_masuk ke dalam dictionary\n",
    "df_dict = {index: eval(f\"df_{index}_masuk\") for index in index_list if f\"df_{index}_masuk\" in globals()}\n",
    "\n",
    "# Tambahkan kolom Index ke setiap DataFrame\n",
    "for index, df in df_dict.items():\n",
    "    df[\"Index\"] = index  \n",
    "\n",
    "# Gabungkan semua DataFrame\n",
    "df_final = pd.concat(df_dict.values(), ignore_index=True)\n",
    "\n",
    "# 🔹 Konversi kolom \"Jumlah Pra Evaluasi\" dan \"Jumlah Pasca Evaluasi\" ke numeric\n",
    "df_final[\"Jumlah Pra Evaluasi\"] = pd.to_numeric(df_final[\"Jumlah Pra Evaluasi\"], errors=\"coerce\")\n",
    "df_final[\"Jumlah Pasca Evaluasi\"] = pd.to_numeric(df_final[\"Jumlah Pasca Evaluasi\"], errors=\"coerce\")\n",
    "\n",
    "# 🔹 Hitung kolom \"Bobot\"\n",
    "df_final[\"Bobot\"] = df_final[\"Jumlah Pasca Evaluasi\"] - df_final[\"Jumlah Pra Evaluasi\"]\n",
    "\n",
    "# 🔹 Ubah NaN di kolom 'Bobot' menjadi 0\n",
    "df_final[\"Bobot\"] = df_final[\"Bobot\"].fillna(0)\n",
    "\n",
    "# Filter hanya kolom yang dibutuhkan\n",
    "df_final = df_final[[\"Kode\", \"Jumlah Keterangan\", \"Index\", \"Bobot\"]]\n",
    "\n",
    "# Ganti nama kolom sesuai format yang diminta\n",
    "df_final = df_final.rename(columns={\"Jumlah Keterangan\": \"Keterangan\"})\n",
    "\n",
    "# 🔹 Ubah 'Naik' dan 'Turun' menjadi 'Berubah', lainnya tetap\n",
    "df_final.loc[df_final[\"Keterangan\"].isin([\"Naik\", \"Turun\"]), \"Keterangan\"] = \"Berubah\"\n",
    "\n",
    "# 🔹 Urutkan kolom sesuai keinginan\n",
    "df_final = df_final[[\"Kode\", \"Keterangan\", \"Bobot\", \"Index\"]]\n",
    "\n",
    "# Menampilkan hasil\n",
    "print(df_final)\n"
   ]
  },
  {
   "cell_type": "code",
   "execution_count": 46,
   "metadata": {},
   "outputs": [],
   "source": [
    "df_final.to_excel(\"hasil.xlsx\", index=False)"
   ]
  }
 ],
 "metadata": {
  "kernelspec": {
   "display_name": "base",
   "language": "python",
   "name": "python3"
  },
  "language_info": {
   "codemirror_mode": {
    "name": "ipython",
    "version": 3
   },
   "file_extension": ".py",
   "mimetype": "text/x-python",
   "name": "python",
   "nbconvert_exporter": "python",
   "pygments_lexer": "ipython3",
   "version": "3.12.7"
  }
 },
 "nbformat": 4,
 "nbformat_minor": 2
}
