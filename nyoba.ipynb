{
 "cells": [
  {
   "cell_type": "code",
   "execution_count": 2,
   "metadata": {},
   "outputs": [
    {
     "ename": "FileNotFoundError",
     "evalue": "Folder tidak ditemukan: C:\\Users\\hp\\Documents\\ExcelFiles",
     "output_type": "error",
     "traceback": [
      "\u001b[1;31m---------------------------------------------------------------------------\u001b[0m",
      "\u001b[1;31mFileNotFoundError\u001b[0m                         Traceback (most recent call last)",
      "Cell \u001b[1;32mIn[2], line 9\u001b[0m\n\u001b[0;32m      7\u001b[0m \u001b[38;5;66;03m# Pastikan folder yang dimaksud ada\u001b[39;00m\n\u001b[0;32m      8\u001b[0m \u001b[38;5;28;01mif\u001b[39;00m \u001b[38;5;129;01mnot\u001b[39;00m os\u001b[38;5;241m.\u001b[39mpath\u001b[38;5;241m.\u001b[39mexists(folder_path):\n\u001b[1;32m----> 9\u001b[0m     \u001b[38;5;28;01mraise\u001b[39;00m \u001b[38;5;167;01mFileNotFoundError\u001b[39;00m(\u001b[38;5;124mf\u001b[39m\u001b[38;5;124m\"\u001b[39m\u001b[38;5;124mFolder tidak ditemukan: \u001b[39m\u001b[38;5;132;01m{\u001b[39;00mfolder_path\u001b[38;5;132;01m}\u001b[39;00m\u001b[38;5;124m\"\u001b[39m)\n\u001b[0;32m     11\u001b[0m \u001b[38;5;66;03m# Dapatkan semua file Excel di folder\u001b[39;00m\n\u001b[0;32m     12\u001b[0m excel_files \u001b[38;5;241m=\u001b[39m [f \u001b[38;5;28;01mfor\u001b[39;00m f \u001b[38;5;129;01min\u001b[39;00m os\u001b[38;5;241m.\u001b[39mlistdir(folder_path) \u001b[38;5;28;01mif\u001b[39;00m f\u001b[38;5;241m.\u001b[39mendswith(\u001b[38;5;124m\"\u001b[39m\u001b[38;5;124m.xlsx\u001b[39m\u001b[38;5;124m\"\u001b[39m)]\n",
      "\u001b[1;31mFileNotFoundError\u001b[0m: Folder tidak ditemukan: C:\\Users\\hp\\Documents\\ExcelFiles"
     ]
    }
   ],
   "source": [
    "import os\n",
    "import pandas as pd\n",
    "\n",
    "# Tentukan folder tempat file Excel berada\n",
    "folder_path = r\"C:\\Users\\hp\\Documents\\ExcelFiles\"  # Sesuaikan dengan lokasi file\n",
    "\n",
    "# Pastikan folder yang dimaksud ada\n",
    "if not os.path.exists(folder_path):\n",
    "    raise FileNotFoundError(f\"Folder tidak ditemukan: {folder_path}\")\n",
    "\n",
    "# Dapatkan semua file Excel di folder\n",
    "excel_files = [f for f in os.listdir(folder_path) if f.endswith(\".xlsx\")]\n",
    "\n",
    "if not excel_files:\n",
    "    raise FileNotFoundError(\"Tidak ada file Excel ditemukan di folder yang ditentukan.\")\n",
    "\n",
    "# DataFrame untuk menyimpan hasil akhir\n",
    "final_df = pd.DataFrame(columns=[\"Kode\", \"Keterangan\", \"Bobot\", \"Index\"])\n",
    "\n",
    "for file in excel_files:\n",
    "    file_path = os.path.join(folder_path, file)\n",
    "    \n",
    "    if \"Index Member\" not in file:\n",
    "        try:\n",
    "            df = pd.read_excel(file_path, engine='openpyxl')\n",
    "            \n",
    "            # Asumsi data berada di posisi tertentu\n",
    "            name = str(df.iloc[1, 6]).replace(':', \"\").replace(\"-\", \"\").strip()\n",
    "            evaluasi = str(df.iloc[2, 6]).replace(':', \"\").strip()\n",
    "            \n",
    "            # Mengambil data dari tabel utama\n",
    "            df_main = df.iloc[5:, [0, 1, 2, 3]]  # Sesuaikan dengan struktur file\n",
    "            df_main.columns = [\"Kode\", \"Keterangan\", \"Bobot\", \"Index\"]\n",
    "            df_main.dropna(how='all', inplace=True)\n",
    "            \n",
    "            # Tambahkan ke hasil akhir\n",
    "            final_df = pd.concat([final_df, df_main], ignore_index=True)\n",
    "        \n",
    "        except Exception as e:\n",
    "            print(f\"Gagal membaca file {file}: {e}\")\n",
    "\n",
    "# Simpan hasil ke Excel\n",
    "output_file = os.path.join(folder_path, \"output.xlsx\")\n",
    "final_df.to_excel(output_file, index=False, engine='openpyxl')\n",
    "print(f\"File output berhasil disimpan di: {output_file}\")\n"
   ]
  }
 ],
 "metadata": {
  "kernelspec": {
   "display_name": "base",
   "language": "python",
   "name": "python3"
  },
  "language_info": {
   "codemirror_mode": {
    "name": "ipython",
    "version": 3
   },
   "file_extension": ".py",
   "mimetype": "text/x-python",
   "name": "python",
   "nbconvert_exporter": "python",
   "pygments_lexer": "ipython3",
   "version": "3.12.7"
  }
 },
 "nbformat": 4,
 "nbformat_minor": 2
}
