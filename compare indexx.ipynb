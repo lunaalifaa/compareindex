{
 "cells": [
  {
   "cell_type": "code",
   "execution_count": 58,
   "metadata": {},
   "outputs": [
    {
     "name": "stdout",
     "output_type": "stream",
     "text": [
      "The history saving thread hit an unexpected error (OperationalError('database or disk is full')).History will not be written to the database.\n"
     ]
    }
   ],
   "source": [
    "try:\n",
    "    import pandas as pd\n",
    "    import os\n",
    "    import openpyxl\n",
    "    import re\n",
    "except:\n",
    "    !pip install --upgrade -q pip\n",
    "    !pip install -q pandas \n",
    "    !pip install -q openpyxl \n",
    "    !pip install -q re\n",
    "    import pandas as pd\n",
    "    import os\n",
    "    import openpyxl\n",
    "    import re"
   ]
  },
  {
   "cell_type": "code",
   "execution_count": 59,
   "metadata": {},
   "outputs": [],
   "source": [
    "folder_path = os.getcwd()  # Atau ubah ke folder lain\n",
    "\n",
    "# Ambil semua file yang berakhiran .xlsx\n",
    "excel_files = [f for f in os.listdir(folder_path) if f.endswith(\".xlsx\")]\n",
    "index = []\n",
    "files = []\n",
    "files_masuk = []\n",
    "files_keluar = []\n",
    "hasil_akhir = pd.DataFrame()"
   ]
  },
  {
   "cell_type": "code",
   "execution_count": 60,
   "metadata": {},
   "outputs": [],
   "source": [
    "# Cetak daftar file .xlsx\n",
    "for file in excel_files:\n",
    "    if \"Index Member\" not in file:\n",
    "        df = pd.read_excel(file)\n",
    "        name = df.iloc[1, 6].replace(':',\"\").replace(\"-\",\"\").strip()\n",
    "        evaluasi = df.iloc[2, 6].replace(':',\"\").strip()\n",
    "        index.append(f\"{name} {evaluasi}\")"
   ]
  },
  {
   "cell_type": "code",
   "execution_count": 61,
   "metadata": {},
   "outputs": [],
   "source": [
    "table = []\n",
    "endrow = 0  # startrow dihapus karena tidak digunakan dengan baik\n",
    "\n",
    "for i in range(len(df[\"Unnamed: 1\"])):\n",
    "    if df[\"Unnamed: 1\"][i] == 1:\n",
    "        table.append(i)  # Gunakan i langsung karena itu adalah indeks asli\n",
    "\n",
    "    try:\n",
    "        if isinstance(df[\"Unnamed: 1\"][i], int) and isinstance(df[\"Unnamed: 1\"][i+1], str):\n",
    "            table.append(endrow + 1)\n",
    "    except IndexError:  # Tangani hanya kesalahan indeks\n",
    "        table.append(endrow + 1)\n",
    "\n",
    "    endrow += 1"
   ]
  },
  {
   "cell_type": "code",
   "execution_count": 62,
   "metadata": {},
   "outputs": [],
   "source": [
    "change= [\"Jumlah Pra Evaluasi\", \"Jumlah Pasca Evaluasi\", \"Jumlah Keterangan\", \"Bobot Pra Evaluasi\", \"Bobot Pasca Evaluasi\", \"Bobot Keterangan\"]\n"
   ]
  },
  {
   "cell_type": "code",
   "execution_count": 63,
   "metadata": {},
   "outputs": [
    {
     "name": "stdout",
     "output_type": "stream",
     "text": [
      "Jumlah Pra Evaluasi\n",
      "Jumlah Pasca Evaluasi\n",
      "Jumlah Keterangan\n",
      "Bobot Pra Evaluasi\n",
      "Bobot Pasca Evaluasi\n",
      "Bobot Keterangan\n"
     ]
    }
   ],
   "source": [
    "for item in change:\n",
    "    print(item)"
   ]
  },
  {
   "cell_type": "code",
   "execution_count": 64,
   "metadata": {},
   "outputs": [
    {
     "name": "stdout",
     "output_type": "stream",
     "text": [
      "Index(['Unnamed: 0', 'Unnamed: 1', 'Unnamed: 2', 'Unnamed: 3', 'Unnamed: 4',\n",
      "       'Unnamed: 5', 'Unnamed: 6', 'Unnamed: 7', 'Unnamed: 8', 'Unnamed: 9'],\n",
      "      dtype='object')\n"
     ]
    }
   ],
   "source": [
    "print(df_index_member.columns)"
   ]
  },
  {
   "cell_type": "code",
   "execution_count": 57,
   "metadata": {},
   "outputs": [
    {
     "ename": "KeyError",
     "evalue": "'Index'",
     "output_type": "error",
     "traceback": [
      "\u001b[1;31m---------------------------------------------------------------------------\u001b[0m",
      "\u001b[1;31mKeyError\u001b[0m                                  Traceback (most recent call last)",
      "File \u001b[1;32mc:\\Users\\hp\\anaconda3\\Lib\\site-packages\\pandas\\core\\indexes\\base.py:3805\u001b[0m, in \u001b[0;36mIndex.get_loc\u001b[1;34m(self, key)\u001b[0m\n\u001b[0;32m   3804\u001b[0m \u001b[38;5;28;01mtry\u001b[39;00m:\n\u001b[1;32m-> 3805\u001b[0m     \u001b[38;5;28;01mreturn\u001b[39;00m \u001b[38;5;28mself\u001b[39m\u001b[38;5;241m.\u001b[39m_engine\u001b[38;5;241m.\u001b[39mget_loc(casted_key)\n\u001b[0;32m   3806\u001b[0m \u001b[38;5;28;01mexcept\u001b[39;00m \u001b[38;5;167;01mKeyError\u001b[39;00m \u001b[38;5;28;01mas\u001b[39;00m err:\n",
      "File \u001b[1;32mindex.pyx:167\u001b[0m, in \u001b[0;36mpandas._libs.index.IndexEngine.get_loc\u001b[1;34m()\u001b[0m\n",
      "File \u001b[1;32mindex.pyx:196\u001b[0m, in \u001b[0;36mpandas._libs.index.IndexEngine.get_loc\u001b[1;34m()\u001b[0m\n",
      "File \u001b[1;32mpandas\\\\_libs\\\\hashtable_class_helper.pxi:7081\u001b[0m, in \u001b[0;36mpandas._libs.hashtable.PyObjectHashTable.get_item\u001b[1;34m()\u001b[0m\n",
      "File \u001b[1;32mpandas\\\\_libs\\\\hashtable_class_helper.pxi:7089\u001b[0m, in \u001b[0;36mpandas._libs.hashtable.PyObjectHashTable.get_item\u001b[1;34m()\u001b[0m\n",
      "\u001b[1;31mKeyError\u001b[0m: 'Index'",
      "\nThe above exception was the direct cause of the following exception:\n",
      "\u001b[1;31mKeyError\u001b[0m                                  Traceback (most recent call last)",
      "Cell \u001b[1;32mIn[57], line 27\u001b[0m\n\u001b[0;32m     24\u001b[0m \u001b[38;5;66;03m# Jika tidak ada data \"Masuk/Keluar\", baca file index member\u001b[39;00m\n\u001b[0;32m     25\u001b[0m \u001b[38;5;28;01melse\u001b[39;00m:\n\u001b[0;32m     26\u001b[0m     df_index_member \u001b[38;5;241m=\u001b[39m pd\u001b[38;5;241m.\u001b[39mread_excel(file)\n\u001b[1;32m---> 27\u001b[0m     df_index_member[\u001b[38;5;124m\"\u001b[39m\u001b[38;5;124mIndex\u001b[39m\u001b[38;5;124m\"\u001b[39m] \u001b[38;5;241m=\u001b[39m df_index_member[\u001b[38;5;124m\"\u001b[39m\u001b[38;5;124mIndex\u001b[39m\u001b[38;5;124m\"\u001b[39m]\u001b[38;5;241m.\u001b[39mstr\u001b[38;5;241m.\u001b[39mreplace(\u001b[38;5;124m\"\u001b[39m\u001b[38;5;124m-\u001b[39m\u001b[38;5;124m\"\u001b[39m, \u001b[38;5;124m\"\u001b[39m\u001b[38;5;124m\"\u001b[39m, regex\u001b[38;5;241m=\u001b[39m\u001b[38;5;28;01mTrue\u001b[39;00m)\n",
      "File \u001b[1;32mc:\\Users\\hp\\anaconda3\\Lib\\site-packages\\pandas\\core\\frame.py:4102\u001b[0m, in \u001b[0;36mDataFrame.__getitem__\u001b[1;34m(self, key)\u001b[0m\n\u001b[0;32m   4100\u001b[0m \u001b[38;5;28;01mif\u001b[39;00m \u001b[38;5;28mself\u001b[39m\u001b[38;5;241m.\u001b[39mcolumns\u001b[38;5;241m.\u001b[39mnlevels \u001b[38;5;241m>\u001b[39m \u001b[38;5;241m1\u001b[39m:\n\u001b[0;32m   4101\u001b[0m     \u001b[38;5;28;01mreturn\u001b[39;00m \u001b[38;5;28mself\u001b[39m\u001b[38;5;241m.\u001b[39m_getitem_multilevel(key)\n\u001b[1;32m-> 4102\u001b[0m indexer \u001b[38;5;241m=\u001b[39m \u001b[38;5;28mself\u001b[39m\u001b[38;5;241m.\u001b[39mcolumns\u001b[38;5;241m.\u001b[39mget_loc(key)\n\u001b[0;32m   4103\u001b[0m \u001b[38;5;28;01mif\u001b[39;00m is_integer(indexer):\n\u001b[0;32m   4104\u001b[0m     indexer \u001b[38;5;241m=\u001b[39m [indexer]\n",
      "File \u001b[1;32mc:\\Users\\hp\\anaconda3\\Lib\\site-packages\\pandas\\core\\indexes\\base.py:3812\u001b[0m, in \u001b[0;36mIndex.get_loc\u001b[1;34m(self, key)\u001b[0m\n\u001b[0;32m   3807\u001b[0m     \u001b[38;5;28;01mif\u001b[39;00m \u001b[38;5;28misinstance\u001b[39m(casted_key, \u001b[38;5;28mslice\u001b[39m) \u001b[38;5;129;01mor\u001b[39;00m (\n\u001b[0;32m   3808\u001b[0m         \u001b[38;5;28misinstance\u001b[39m(casted_key, abc\u001b[38;5;241m.\u001b[39mIterable)\n\u001b[0;32m   3809\u001b[0m         \u001b[38;5;129;01mand\u001b[39;00m \u001b[38;5;28many\u001b[39m(\u001b[38;5;28misinstance\u001b[39m(x, \u001b[38;5;28mslice\u001b[39m) \u001b[38;5;28;01mfor\u001b[39;00m x \u001b[38;5;129;01min\u001b[39;00m casted_key)\n\u001b[0;32m   3810\u001b[0m     ):\n\u001b[0;32m   3811\u001b[0m         \u001b[38;5;28;01mraise\u001b[39;00m InvalidIndexError(key)\n\u001b[1;32m-> 3812\u001b[0m     \u001b[38;5;28;01mraise\u001b[39;00m \u001b[38;5;167;01mKeyError\u001b[39;00m(key) \u001b[38;5;28;01mfrom\u001b[39;00m \u001b[38;5;21;01merr\u001b[39;00m\n\u001b[0;32m   3813\u001b[0m \u001b[38;5;28;01mexcept\u001b[39;00m \u001b[38;5;167;01mTypeError\u001b[39;00m:\n\u001b[0;32m   3814\u001b[0m     \u001b[38;5;66;03m# If we have a listlike key, _check_indexing_error will raise\u001b[39;00m\n\u001b[0;32m   3815\u001b[0m     \u001b[38;5;66;03m#  InvalidIndexError. Otherwise we fall through and re-raise\u001b[39;00m\n\u001b[0;32m   3816\u001b[0m     \u001b[38;5;66;03m#  the TypeError.\u001b[39;00m\n\u001b[0;32m   3817\u001b[0m     \u001b[38;5;28mself\u001b[39m\u001b[38;5;241m.\u001b[39m_check_indexing_error(key)\n",
      "\u001b[1;31mKeyError\u001b[0m: 'Index'"
     ]
    }
   ],
   "source": [
    "# Inisialisasi dictionary untuk menyimpan DataFrame\n",
    "dataframes = {}\n",
    "files = []\n",
    "files_masuk = []\n",
    "files_keluar = []\n",
    "\n",
    "# Membuat header untuk data \"Masuk\"\n",
    "header_masuk = [df.iloc[table[0]-2:table[0]-1, 1:4].values.tolist()[0] + change][0]\n",
    "\n",
    "# Mengambil dan menyimpan data \"Masuk\"\n",
    "masuk = df.iloc[table[0]:table[1], 1:12]\n",
    "masuk.columns = header_masuk\n",
    "dataframes[f'df_{name}_masuk'] = masuk\n",
    "files.append(f'df_{name}_masuk')\n",
    "files_masuk.append(f'df_{name}_masuk')\n",
    "\n",
    "# Jika ada data \"Keluar\", ambil dan simpan\n",
    "if len(table) > 2:\n",
    "    keluar = df.iloc[table[2]:table[3], 1:4]\n",
    "    keluar.columns = df.iloc[table[2]-2:table[2]-1, 1:4].values.tolist()[0]\n",
    "    dataframes[f'df_{name}_keluar'] = keluar\n",
    "    files.append(f'df_{name}_keluar')\n",
    "    files_keluar.append(f'df_{name}_keluar')\n",
    "# Jika tidak ada data \"Masuk/Keluar\", baca file index member\n",
    "else:\n",
    "    df_index_member = pd.read_excel(file)\n",
    "    df_index_member[\"Index\"] = df_index_member[\"Index\"].str.replace(\"-\", \"\", regex=True)\n"
   ]
  },
  {
   "cell_type": "code",
   "execution_count": 49,
   "metadata": {},
   "outputs": [],
   "source": [
    "masuk = df.iloc[table[0]:table[1], 1:12]  # Mengambil data dari indeks table[0] sampai table[1], kolom 1 hingga 11.\n",
    "masuk.columns = header_masuk  # Menetapkan header yang telah dibuat.\n"
   ]
  },
  {
   "cell_type": "code",
   "execution_count": 52,
   "metadata": {},
   "outputs": [],
   "source": [
    "# Inisialisasi dictionary untuk menyimpan DataFrame\n",
    "dataframes = {}\n",
    "\n",
    "# Simpan DataFrame masuk ke dalam dictionary\n",
    "dataframes[f'df_{name}_masuk'] = masuk\n"
   ]
  },
  {
   "cell_type": "code",
   "execution_count": 53,
   "metadata": {},
   "outputs": [],
   "source": [
    "df_masuk_A = dataframes.get(\"df_A_masuk\")  # Mengambil DataFrame tanpa error jika tidak ditemukan\n"
   ]
  },
  {
   "cell_type": "code",
   "execution_count": 54,
   "metadata": {},
   "outputs": [
    {
     "ename": "KeyError",
     "evalue": "'df_A_masuk'",
     "output_type": "error",
     "traceback": [
      "\u001b[1;31m---------------------------------------------------------------------------\u001b[0m",
      "\u001b[1;31mKeyError\u001b[0m                                  Traceback (most recent call last)",
      "Cell \u001b[1;32mIn[54], line 1\u001b[0m\n\u001b[1;32m----> 1\u001b[0m \u001b[38;5;28mprint\u001b[39m(dataframes[\u001b[38;5;124m\"\u001b[39m\u001b[38;5;124mdf_A_masuk\u001b[39m\u001b[38;5;124m\"\u001b[39m])\n",
      "\u001b[1;31mKeyError\u001b[0m: 'df_A_masuk'"
     ]
    }
   ],
   "source": [
    "print(dataframes[\"df_A_masuk\"])\n"
   ]
  },
  {
   "cell_type": "code",
   "execution_count": 47,
   "metadata": {},
   "outputs": [
    {
     "ename": "SyntaxError",
     "evalue": "invalid syntax (3664328556.py, line 14)",
     "output_type": "error",
     "traceback": [
      "\u001b[1;36m  Cell \u001b[1;32mIn[47], line 14\u001b[1;36m\u001b[0m\n\u001b[1;33m    else:\u001b[0m\n\u001b[1;37m    ^\u001b[0m\n\u001b[1;31mSyntaxError\u001b[0m\u001b[1;31m:\u001b[0m invalid syntax\n"
     ]
    }
   ],
   "source": [
    "        header_masuk = [df.iloc[table[0]-2:table[0]-1, 1:4].values.tolist()[0] + change][0]\n",
    "        masuk = df.iloc[table[0]:table[1], 1:12]\n",
    "        masuk.columns = header_masuk\n",
    "        exec(f'df_{name}_masuk = masuk')\n",
    "        files.append(f'df_{name}_masuk')\n",
    "        files_masuk.append(f'df_{name}_masuk')\n",
    "\n",
    "        if len(table)>2:\n",
    "            keluar = df.iloc[table[2]:table[3], 1:4]\n",
    "            keluar.columns = df.iloc[table[2]-2:table[2]-1, 1:4].values.tolist()[0]\n",
    "            exec(f'df_{name}_keluar = keluar')\n",
    "            files.append(f'df_{name}_keluar')\n",
    "            files_keluar.append(f'df_{name}_keluar')\n",
    "    else:\n",
    "        df_index_member = pd.read_excel(file)\n",
    "        df_index_member[\"Index\"] = df_index_member[\"Index\"].str.replace(\"-\", \"\", regex=True)"
   ]
  },
  {
   "cell_type": "code",
   "execution_count": 37,
   "metadata": {},
   "outputs": [],
   "source": [
    "files = list(set(files))  # Hapus duplikasi dalam daftar files\n",
    "files_masuk = list(set(files_masuk))  # Hapus duplikasi dalam daftar masuk\n",
    "files_keluar = list(set(files_keluar))  # Hapus duplikasi dalam daftar keluar"
   ]
  },
  {
   "cell_type": "code",
   "execution_count": 30,
   "metadata": {},
   "outputs": [
    {
     "name": "stdout",
     "output_type": "stream",
     "text": [
      "['df_MBX_masuk', 'df_IDXMESBUMN_masuk', 'df_SRIKEHATI_masuk', 'df_JII70_masuk', 'df_JII_masuk', 'df_DBX_masuk', 'df_ISSI_masuk', 'df_INVESTOR33_masuk', 'df_ABX_masuk', 'df_ESGSKEHATI_masuk', 'df_IDXECONOMIC30_keluar', 'df_IDXSHAGROW_masuk', 'df_IDXECONOMIC30_masuk', 'df_IDXVESTA28_keluar', 'df_IDXVESTA28_masuk', 'df_ESGQKEHATI_masuk']\n",
      "['df_MBX_masuk', 'df_IDXMESBUMN_masuk', 'df_SRIKEHATI_masuk', 'df_JII70_masuk', 'df_JII_masuk', 'df_DBX_masuk', 'df_ISSI_masuk', 'df_INVESTOR33_masuk', 'df_ABX_masuk', 'df_ESGSKEHATI_masuk', 'df_IDXSHAGROW_masuk', 'df_IDXECONOMIC30_masuk', 'df_IDXVESTA28_masuk', 'df_ESGQKEHATI_masuk']\n",
      "['df_IDXVESTA28_keluar', 'df_IDXECONOMIC30_keluar']\n"
     ]
    }
   ],
   "source": [
    "print(files)\n",
    "print(files_masuk)\n",
    "print(files_keluar)"
   ]
  },
  {
   "cell_type": "code",
   "execution_count": 31,
   "metadata": {},
   "outputs": [
    {
     "name": "stdout",
     "output_type": "stream",
     "text": [
      "Index(['No.', 'Kode', 'Rasio Free Float', 'Jumlah Pra Evaluasi',\n",
      "       'Jumlah Pasca Evaluasi', 'Jumlah Keterangan', 'Bobot Pra Evaluasi',\n",
      "       'Bobot Pasca Evaluasi', 'Bobot Keterangan'],\n",
      "      dtype='object')\n"
     ]
    }
   ],
   "source": [
    "print(eval(\"df_IDXVESTA28_masuk\").columns)"
   ]
  },
  {
   "cell_type": "code",
   "execution_count": 32,
   "metadata": {},
   "outputs": [
    {
     "ename": "NameError",
     "evalue": "name 'df_index_member' is not defined",
     "output_type": "error",
     "traceback": [
      "\u001b[1;31m---------------------------------------------------------------------------\u001b[0m",
      "\u001b[1;31mNameError\u001b[0m                                 Traceback (most recent call last)",
      "Cell \u001b[1;32mIn[32], line 1\u001b[0m\n\u001b[1;32m----> 1\u001b[0m \u001b[38;5;28mprint\u001b[39m(df_index_member\u001b[38;5;241m.\u001b[39mhead())\n",
      "\u001b[1;31mNameError\u001b[0m: name 'df_index_member' is not defined"
     ]
    }
   ],
   "source": [
    "print(df_index_member.head())  # Cek apakah DataFrame ada"
   ]
  },
  {
   "cell_type": "code",
   "execution_count": 33,
   "metadata": {},
   "outputs": [
    {
     "ename": "NameError",
     "evalue": "name 'df_index_member' is not defined",
     "output_type": "error",
     "traceback": [
      "\u001b[1;31m---------------------------------------------------------------------------\u001b[0m",
      "\u001b[1;31mNameError\u001b[0m                                 Traceback (most recent call last)",
      "Cell \u001b[1;32mIn[33], line 29\u001b[0m\n\u001b[0;32m     27\u001b[0m     compare \u001b[38;5;241m=\u001b[39m dict_compare[compare]\n\u001b[0;32m     28\u001b[0m     \u001b[38;5;28mprint\u001b[39m(df_index_member\u001b[38;5;241m.\u001b[39mhead())  \u001b[38;5;66;03m# Cek apakah DataFrame ada\u001b[39;00m\n\u001b[1;32m---> 29\u001b[0m current \u001b[38;5;241m=\u001b[39m df_index_member[df_index_member[\u001b[38;5;124m'\u001b[39m\u001b[38;5;124mIndex\u001b[39m\u001b[38;5;124m'\u001b[39m]\u001b[38;5;241m.\u001b[39mstr\u001b[38;5;241m.\u001b[39mupper() \u001b[38;5;241m==\u001b[39m compare]\n\u001b[0;32m     30\u001b[0m \u001b[38;5;28;01mtry\u001b[39;00m:\n\u001b[0;32m     31\u001b[0m     df_masuk \u001b[38;5;241m=\u001b[39m \u001b[38;5;28meval\u001b[39m(file)\n",
      "\u001b[1;31mNameError\u001b[0m: name 'df_index_member' is not defined"
     ]
    }
   ],
   "source": [
    "def Check_jumlah_naik(row):\n",
    "    if row['Jumlah Keterangan'].upper() == \"NAIK\":\n",
    "        return row['Jumlah Pasca Evaluasi'] > row['Jumlah Pra Evaluasi']\n",
    "    if row['Jumlah Keterangan'].upper() == \"TETAP\":\n",
    "        return round(row['Jumlah Pasca Evaluasi'],2) == round(row['Jumlah Pra Evaluasi'],2)\n",
    "    if row['Jumlah Keterangan'].upper() == \"TURUN\":\n",
    "        return row['Jumlah Pasca Evaluasi'] < row['Jumlah Pra Evaluasi']\n",
    "    if row['Jumlah Keterangan'].upper() == \"BARU\":\n",
    "        return (row['Jumlah Pasca Evaluasi'] > 0) & (str(row['Jumlah Pra Evaluasi']) == '-')\n",
    "    return False\n",
    "\n",
    "def Check_bobot_naik(row):\n",
    "    if row['Bobot Keterangan'].upper() == \"NAIK\":\n",
    "        return row['Bobot Pasca Evaluasi'] > row['Bobot Pra Evaluasi']\n",
    "    if row['Bobot Keterangan'].upper() == \"TETAP\":\n",
    "        return round(row['Bobot Pasca Evaluasi'],2) == round(row['Bobot Pra Evaluasi'],2)\n",
    "    if row['Bobot Keterangan'].upper() == \"TURUN\":\n",
    "        return row['Bobot Pasca Evaluasi'] < row['Bobot Pra Evaluasi']\n",
    "    if row['Bobot Keterangan'].upper() == \"BARU\":\n",
    "        return (row['Bobot Pasca Evaluasi'] > 0) & (str(row['Bobot Pra Evaluasi']) == '-')\n",
    "    return False\n",
    "\n",
    "for file in files_masuk:\n",
    "    compare = file.split(\"_\")[1]\n",
    "    dict_compare = {'IDXECONOMIC30': 'ECONOMIC30'}\n",
    "    if compare in dict_compare:\n",
    "        compare = dict_compare[compare]\n",
    "        print(df_index_member.head())  # Cek apakah DataFrame ada\n",
    "    current = df_index_member[df_index_member['Index'].str.upper() == compare]\n",
    "    try:\n",
    "        df_masuk = eval(file)\n",
    "    except NameError:\n",
    "        print(f\"⚠️ DataFrame df_{file}_masuk tidak ditemukan.\")\n",
    "        continue \n",
    "\n",
    "    # Gabungkan berdasarkan kolom \"Kode Efek\" dan \"Kode\"\n",
    "    exec(f'{file} = {file}.merge(current[[\"Kode Efek\", \"Weight Multiplier\"]], left_on=\"Kode\", right_on=\"Kode Efek\", how=\"left\")')\n",
    "    exec(f'{file}[\"Check Kode\"] = {file}[\"Kode Efek\"] == {file}[\"Kode\"]')\n",
    "    exec(f'{file}[\"Check Jumlah\"] = {file}[\"Weight Multiplier\"] == {file}[\"Jumlah Pra Evaluasi\"]')\n",
    "    exec(f'{file}[\"Check Keterangan Jumlah\"] = {file}.apply(Check_jumlah_naik, axis=1)')\n",
    "    exec(f'{file}[\"Check Keterangan Bobot\"] = {file}.apply(Check_bobot_naik, axis=1)')\n",
    "\n",
    "    current = current.merge(df_masuk[['Kode','Jumlah Pra Evaluasi']], left_on=\"Kode Efek\", right_on=\"Kode\", how=\"left\")\n",
    "    current[\"Check Kode\"] = current[\"Kode Efek\"] == current[\"Kode\"]\n",
    "    current[\"Check Jumlah\"] = current[\"Weight Multiplier\"] == current[\"Jumlah Pra Evaluasi\"]\n",
    "    hasil_akhir = pd.concat([hasil_akhir, current], ignore_index=True)\n",
    "\n",
    "    # Cek apakah DataFrame hasil kosong\n",
    "    if current.empty:\n",
    "        print(f\"{file} not ok\")\n"
   ]
  },
  {
   "cell_type": "code",
   "execution_count": null,
   "metadata": {},
   "outputs": [],
   "source": [
    "for file in files_keluar:\n",
    "    compare = file.split(\"_\")[1]\n",
    "    dict_compare = {'IDXECONOMIC30': 'ECONOMIC30'}\n",
    "    if compare in dict_compare:\n",
    "        compare = dict_compare[compare]\n",
    "    current = df_index_member[df_index_member['Index'].str.upper() == compare]\n",
    "    try:\n",
    "        df_masuk = eval(f\"{file.replace(\"keluar\",\"masuk\")}\")\n",
    "    except NameError:\n",
    "        print(f\"⚠️ DataFrame df_{file}_keluar tidak ditemukan.\")\n",
    "        continue\n",
    "\n",
    "    current = current.merge(df_masuk[['Kode']], left_on=\"Kode Efek\", right_on=\"Kode\", how=\"left\")\n",
    "    current[\"Check Kode\"] = current[\"Kode Efek\"] == current[\"Kode\"]\n",
    "    current = current[current['Check Kode'] == False]\n",
    "    exec(f'{file} = {file}.merge(current[[\"Kode Efek\"]], left_on=\"Kode\", right_on=\"Kode Efek\", how=\"left\")')\n",
    "    exec(f'{file}[\"Check Keluar\"] = {file}[\"Kode\"] == {file}[\"Kode Efek\"]')"
   ]
  },
  {
   "cell_type": "code",
   "execution_count": 5,
   "metadata": {},
   "outputs": [],
   "source": [
    "text = \"\"\n",
    "text1 = \"\"\n",
    "for naming in index:\n",
    "    file = naming.split()[0]\n",
    "    \n",
    "    check_in = eval(f\"df_{file}_masuk\")\n",
    "    # In\n",
    "    in_baru = check_in[(check_in['Check Kode'] == False) & (check_in['Check Keterangan Jumlah'] == True) & (check_in['Check Keterangan Bobot'] == True)]\n",
    "    if in_baru.shape[0] > 0:\n",
    "        text += f\"\\n\\n*{naming}:*\"\n",
    "        text += f\"\\n*- IN ({len(in_baru)}):*\"\n",
    "        for name in in_baru.Kode.unique().tolist():\n",
    "            text += f' {name}'\n",
    "\n",
    "\n",
    "    # In salah format\n",
    "    in_baru_salah = check_in[((check_in['Check Kode'] == False) & (check_in['Check Keterangan Jumlah'] == False)) | ((check_in['Check Kode'] == False) & (check_in['Check Keterangan Bobot'] == False))]\n",
    "    if in_baru_salah.shape[0] > 0:\n",
    "        text += f\"\\n*- IN Error ({len(in_baru_salah)}):*\"\n",
    "        for name in in_baru_salah.Kode.unique().tolist():\n",
    "            text += f' {name}'\n",
    "\n",
    "    # Keluar\n",
    "    if f\"df_{file}_keluar\" in files:\n",
    "        check_out = eval(f\"df_{file}_keluar\")\n",
    "        out_baru = check_out[check_out['Check Keluar'] == True]\n",
    "        if out_baru.shape[0] > 0:\n",
    "            text += f\"\\n*- OUT ({len(out_baru)}):*\"\n",
    "            for name in out_baru.Kode.unique().tolist():\n",
    "                text += f' {name}'\n",
    "\n",
    "    # Check Salah\n",
    "    salah_in = check_in[((check_in['Check Kode'] == True) & (check_in['Check Keterangan Jumlah'] == False)) | ((check_in['Check Kode'] == True) & (check_in['Check Keterangan Bobot'] == False))]\n",
    "    if salah_in.shape[0] > 0:\n",
    "        text += f\"\\n*- Error ({len(salah_in)}):*\"\n",
    "        for name in salah_in.Kode.unique().tolist():\n",
    "            text += f' {name}'\n",
    "\n",
    "    # Check anggota\n",
    "    check_name = []\n",
    "    for char in file:\n",
    "        if char.isdigit(): \n",
    "            check_name.append(char)\n",
    "    if check_name: \n",
    "        check_name = int(''.join(check_name))\n",
    "        \n",
    "        if check_name < len(check_in):\n",
    "            if len(check_in) != check_name:\n",
    "                text += f'\\n- {file} constituent berlebih {len(check_in)-check_name}'\n",
    "\n",
    "for naming in index:\n",
    "    file = naming.split()[0]\n",
    "    if file not in text:\n",
    "        text1 += f\"*{naming}:* Tidak ada perubahan keluar masuk indeks\\n\"\n",
    "\n",
    "text = text + \"\\n\\n\" + text1\n",
    "text = text[2:]\n",
    "\n",
    "with open(\"hasil.txt\", \"w\", encoding=\"utf-8\") as file:\n",
    "    file.write(text)"
   ]
  }
 ],
 "metadata": {
  "kernelspec": {
   "display_name": "base",
   "language": "python",
   "name": "python3"
  },
  "language_info": {
   "codemirror_mode": {
    "name": "ipython",
    "version": 3
   },
   "file_extension": ".py",
   "mimetype": "text/x-python",
   "name": "python",
   "nbconvert_exporter": "python",
   "pygments_lexer": "ipython3",
   "version": "3.12.7"
  }
 },
 "nbformat": 4,
 "nbformat_minor": 2
}
